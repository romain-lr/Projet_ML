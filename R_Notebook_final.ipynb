{
 "cells": [
  {
   "cell_type": "markdown",
   "id": "0dbebf3f-d1ed-4ac0-a249-ae397e9163b6",
   "metadata": {},
   "source": [
    "# Projet Machine Learning 4A - Notebook R"
   ]
  },
  {
   "cell_type": "markdown",
   "id": "9ca59635-1b25-4278-9bef-d18c334c915b",
   "metadata": {},
   "source": [
    "## Importation des librairies\n"
   ]
  },
  {
   "cell_type": "code",
   "execution_count": null,
   "id": "462b5ccb-64e1-4c28-ba04-0c8445edc0c1",
   "metadata": {},
   "outputs": [],
   "source": [
    "library(plotly)\n",
    "library(dplyr)\n",
    "library(corrplot)\n",
    "library(ggplot2)\n",
    "library(ggbiplot)\n",
    "library(factoextra)\n",
    "library(FactoMineR)\n",
    "library(gridExtra)\n",
    "library(caret)\n",
    "library(glmnet)\n",
    "library(MASS)\n",
    "library(e1071)\n",
    "library(rpart)\n",
    "library(rpart.plot)\n",
    "library(partykit)\n",
    "library(randomForest)\n",
    "library(gbm)\n",
    "library(neuralnet)\n",
    "library(ggRandomForests)\n",
    "library(xgboost)\n",
    "library(nnet)"
   ]
  },
  {
   "cell_type": "markdown",
   "id": "f00757d7-3376-41c9-9f54-8fccff333fa0",
   "metadata": {},
   "source": [
    "## Importation du jeu de données"
   ]
  },
  {
   "cell_type": "code",
   "execution_count": null,
   "id": "ad9e433f-0d2e-479a-bdd2-184cfec2c34a",
   "metadata": {},
   "outputs": [],
   "source": [
    "data <- read.csv(\"global-data-on-sustainable-energy (1).csv\", header = TRUE)\n",
    "head(data)"
   ]
  },
  {
   "cell_type": "markdown",
   "id": "f75234d9-e439-4e6f-b96e-18e8fe3d952e",
   "metadata": {},
   "source": [
    "En affichant que les 5 premières lignes de notre data frame, on remarque déjà qu'il y a des données manquantes."
   ]
  },
  {
   "cell_type": "markdown",
   "id": "9119a265-2f7f-4b66-b500-72b215970240",
   "metadata": {},
   "source": [
    "# Analyse exploratoire du jeu de données"
   ]
  },
  {
   "cell_type": "markdown",
   "id": "e27ea7cb-a95b-4327-91ff-403e284a000b",
   "metadata": {},
   "source": [
    "### Question 1\n"
   ]
  },
  {
   "cell_type": "markdown",
   "id": "e444e788-9ba5-4676-bf82-83311e2832fb",
   "metadata": {},
   "source": [
    "On affiche les types des variables\n"
   ]
  },
  {
   "cell_type": "code",
   "execution_count": null,
   "id": "c36c5bd3-6877-47f7-8b43-e5244937fe86",
   "metadata": {},
   "outputs": [],
   "source": [
    "str(data)"
   ]
  },
  {
   "cell_type": "markdown",
   "id": "d392101b-6be8-4008-a0b3-d787ab00f075",
   "metadata": {},
   "source": [
    "Nous remarquons qu'il se trouve alors 21 variables dans notre jeu de données. Nous avons deux variables qualitatives : Entity et Year."
   ]
  },
  {
   "cell_type": "code",
   "execution_count": null,
   "id": "4e916eea-96e3-4564-9587-de2b39617119",
   "metadata": {},
   "outputs": [],
   "source": [
    "summary(data)"
   ]
  },
  {
   "cell_type": "markdown",
   "id": "3e3ef6d2-acc7-4606-bae5-28821ef5dfcb",
   "metadata": {},
   "source": [
    "Nous remarquons que les variables ne possèdent pas le même nombre d'observations. Nous pourrons l'observer plus précisément plus tard. De plus, cette analyse est faite sur les variables quantitatives de notre jeu de données, et nous pouvons observer la présence de la variable 'Year', qui devrait être quantitative, ainsi que l'abscence de la variable 'Density', qui elle devrait être quantitative. Des transformations du type des variables s'imposent !"
   ]
  },
  {
   "cell_type": "code",
   "execution_count": null,
   "id": "34d2a5cc-7f92-48c7-a7f2-3fc758d496a0",
   "metadata": {},
   "outputs": [],
   "source": [
    "#On transforme la variable Year en qualitative\n",
    "data$Year <- as.factor(data$Year)\n",
    "class(data$Year)"
   ]
  },
  {
   "cell_type": "code",
   "execution_count": null,
   "id": "2fe8c60b-0206-4bb5-8261-c790f3689d1a",
   "metadata": {},
   "outputs": [],
   "source": [
    "#On transforme la densité en variable numérique\n",
    "data$Density.n.P.Km2.<-as.numeric(gsub(\",\",\"\",data$Density.n.P.Km2.))\n",
    "class(data$Density.n.P.Km2.)\n"
   ]
  },
  {
   "cell_type": "markdown",
   "id": "10712224-9d9f-4635-82d1-b5405bf4d0f2",
   "metadata": {},
   "source": [
    "On bien changé la variable 'Density' en numérique."
   ]
  },
  {
   "cell_type": "code",
   "execution_count": null,
   "id": "d8fa55a8-9d36-42a3-b1f2-f9733a9d1d4c",
   "metadata": {},
   "outputs": [],
   "source": [
    "#On vérifie qu'on a les bons types \n",
    "str(data)"
   ]
  },
  {
   "cell_type": "markdown",
   "id": "a3a4642b-51ca-41c3-af4c-0bd3f42c1f6c",
   "metadata": {},
   "source": [
    "### Question 2\n"
   ]
  },
  {
   "cell_type": "code",
   "execution_count": null,
   "id": "a15f8f1e-8354-4953-ab07-121db45c2501",
   "metadata": {},
   "outputs": [],
   "source": [
    "#Afficher le nombre de valeurs manquantes par variables\n",
    "\n",
    "données_manquantes <- colSums(is.na(data))\n",
    "print(données_manquantes)"
   ]
  },
  {
   "cell_type": "code",
   "execution_count": null,
   "id": "c2d0813b-c692-40fe-b445-5a62d42cad67",
   "metadata": {},
   "outputs": [],
   "source": [
    "\n",
    "fig <- plot_ly(x = names(données_manquantes), y = données_manquantes, type = \"bar\", \n",
    "               name = \"Valeurs manquantes par variables\", \n",
    "               marker = list(color = \"purple\"),\n",
    "               xlab = \"Variables\", ylab = \"Nombre de valeurs manquantes\",\n",
    "               title = \"Valeurs manquantes par variables\")\n",
    "\n",
    "fig"
   ]
  },
  {
   "cell_type": "code",
   "execution_count": null,
   "id": "9e77220f-e527-4b44-872f-a414e1a20f4a",
   "metadata": {},
   "outputs": [],
   "source": [
    "#On récupère le nom complet des variables\n",
    "names(data)"
   ]
  },
  {
   "cell_type": "code",
   "execution_count": null,
   "id": "cad60577-b598-4904-b0dd-275d13ef6066",
   "metadata": {},
   "outputs": [],
   "source": [
    "#On supprime les variables comportant un taux de données manquantes très important\n",
    "\n",
    "data <- subset(data, select = -c(Renewable.electricity.generating.capacity.per.capita, Financial.flows.to.developing.countries..US..., Renewables....equivalent.primary.energy.))"
   ]
  },
  {
   "cell_type": "code",
   "execution_count": null,
   "id": "d8cc1cf0-3eff-4ffb-ba45-4f5108f17222",
   "metadata": {},
   "outputs": [],
   "source": [
    "#On vérifie que data a bien les 3 variables précédentes en moins\n",
    "\n",
    "names(data)"
   ]
  },
  {
   "cell_type": "markdown",
   "id": "075f527f-a9bb-4006-b479-4a5be3ab6253",
   "metadata": {},
   "source": [
    "### Question 3\n"
   ]
  },
  {
   "cell_type": "code",
   "execution_count": null,
   "id": "5e011713-9146-4daf-928e-a2ec2dbb63e3",
   "metadata": {},
   "outputs": [],
   "source": [
    "# On créé un nouveau jeu de données comportant seulement les individus sans valeurs manquantes\n",
    "#data_sans_val_manquantes=data2\n",
    "#data3=data2\n",
    "#data4=data2 (modif des noms variables)\n",
    "\n",
    "\n",
    "\n",
    "\n",
    "\n",
    "\n",
    "data2 <- data[complete.cases(data), ]"
   ]
  },
  {
   "cell_type": "code",
   "execution_count": null,
   "id": "e7a5b71a-2af7-49fd-a812-cbd1e6e4a4b9",
   "metadata": {},
   "outputs": [],
   "source": [
    "#On vérifie qu'on a bien 2868 observations dans le jeu de données complet\n",
    "\n",
    "nrow(data2)"
   ]
  },
  {
   "cell_type": "markdown",
   "id": "e964f2f2-1497-42f9-ac7e-956f8daf30e5",
   "metadata": {},
   "source": [
    "# Analyse descriptive unidimensionnelle"
   ]
  },
  {
   "cell_type": "markdown",
   "id": "503feccc-24cc-4331-b387-d77573a4c4eb",
   "metadata": {},
   "source": [
    "### Question 4"
   ]
  },
  {
   "cell_type": "code",
   "execution_count": null,
   "id": "d8894586-0d6a-469a-83fc-9b299e1fe7cc",
   "metadata": {},
   "outputs": [],
   "source": [
    "ggplot(data2, aes(y = `Access.to.electricity....of.population.`)) +\n",
    "  geom_boxplot(fill = \"blue\") +\n",
    "  labs(title = \"Boîte à moustaches pour Access-to-electricity\")"
   ]
  },
  {
   "cell_type": "code",
   "execution_count": null,
   "id": "fdf0d63e-596a-4373-a2d7-4b634089cbd7",
   "metadata": {},
   "outputs": [],
   "source": [
    "# Autre type d'analyse descriptive de variable qualitative\n",
    "\n",
    "ggplot(data2, aes(x = `Electricity.from.fossil.fuels..TWh.`)) +\n",
    "  geom_histogram(binwidth = 50, fill = \"blue\", color = \"black\") +\n",
    "  labs(title = \"Electricity-from-fossil-fuels\",\n",
    "       x = \"Electricity-from-fossil-fuels (TWh)\",\n",
    "       y = \"Fréquence\") +\n",
    "  theme_minimal()\n",
    "\n",
    "# Nous remarquons que cette variable possède bcp de données entre 0 et 500 TWh"
   ]
  },
  {
   "cell_type": "code",
   "execution_count": null,
   "id": "9be406e1-f139-41dd-818a-3bd23dddb3b7",
   "metadata": {},
   "outputs": [],
   "source": [
    "#ggplot(data2, aes(x = `Electricity.from.fossil.fuels..TWh.`)) +\n",
    " # geom_density(fill = \"skyblue\", alpha = 0.5) +\n",
    "  #labs(title = \"Densité de Electricity-from-fossil-fuels\")"
   ]
  },
  {
   "cell_type": "code",
   "execution_count": null,
   "id": "fbd6d833-dd2b-46fd-8d0a-d1aeb05e700e",
   "metadata": {},
   "outputs": [],
   "source": [
    "ggplot(data2, aes(x = `Access.to.clean.fuels.for.cooking`)) +\n",
    "  geom_density(fill = \"blue\", alpha = 0.5) +\n",
    "  labs(title = \"Densité de Access.to.clean.fuels.for.cooking\")"
   ]
  },
  {
   "cell_type": "code",
   "execution_count": null,
   "id": "6bceec98-82c9-4e9c-a053-9be7e87797a6",
   "metadata": {},
   "outputs": [],
   "source": [
    "ggplot(data2, aes(x=`Primary.energy.consumption.per.capita..kWh.person.`)) +\n",
    "  geom_density(fill = \"blue\", alpha = 0.5) +\n",
    "  labs(title = \"The density of Primary energy consumption per capita (kWh/person)\")"
   ]
  },
  {
   "cell_type": "code",
   "execution_count": null,
   "id": "3e3c6c15-54bd-4b29-a084-f7cb34268457",
   "metadata": {},
   "outputs": [],
   "source": [
    "#On applique une transformation logarithmique à cette variable\n",
    "\n",
    "data2$Primary_energy_consumption_per_capita_new <- log(data2$Primary.energy.consumption.per.capita..kWh.person.)\n",
    "\n",
    "#On supprime la variable sans transformation\n",
    "\n",
    "data3 <- subset(data2, select = -c(Primary.energy.consumption.per.capita..kWh.person.))\n"
   ]
  },
  {
   "cell_type": "code",
   "execution_count": null,
   "id": "24c66e07-5fea-497e-abcd-5d01bc87c45a",
   "metadata": {},
   "outputs": [],
   "source": [
    "#On affiche la nouvelle densité :\n",
    "ggplot(data3, aes(x=`Primary_energy_consumption_per_capita_new`)) +\n",
    "  geom_density(fill = \"blue\", alpha = 0.5) +\n",
    "  labs(title = \"The density of Primary energy consumption per capita new (kWh/person)\")"
   ]
  },
  {
   "cell_type": "markdown",
   "id": "4cb59035-1799-4834-8f55-9230ccba8218",
   "metadata": {},
   "source": [
    "Nous avons bien effectué notre transformation logarithmique sur la variable \"Primary.energy.consumption.per.capita..kWh.person.\"."
   ]
  },
  {
   "cell_type": "markdown",
   "id": "f9aac0ca-3f0d-4bf8-b799-bfcc238d791d",
   "metadata": {},
   "source": [
    "### Question 5"
   ]
  },
  {
   "cell_type": "code",
   "execution_count": null,
   "id": "db6ed995-809f-4621-9e9c-6a2b41d0cc53",
   "metadata": {},
   "outputs": [],
   "source": [
    "#On renomme la colonne \"Value_co2_emissions_kt_by_country_new\" en \"CO2\" \n",
    "data2 <- data2 %>%\n",
    "  rename(CO2 = Value_co2_emissions_kt_by_country)"
   ]
  },
  {
   "cell_type": "code",
   "execution_count": null,
   "id": "2b7b688c-ec77-4b01-b1d1-26d2d62f502a",
   "metadata": {},
   "outputs": [],
   "source": [
    "#On vérifie :\n",
    "names(data2)"
   ]
  },
  {
   "cell_type": "code",
   "execution_count": null,
   "id": "19cef6ce-dd0c-4010-951a-fbbc4fec0760",
   "metadata": {},
   "outputs": [],
   "source": [
    "#Nous pouvons observer les émissions de CO2 par pays\n",
    "\n",
    "ggplot(data2, aes(x = Entity, y = CO2)) +\n",
    "  geom_bar(stat = \"identity\", fill = \"blue\") +\n",
    "  labs(title = \"Émissions de CO2 par pays\",\n",
    "       x = \"Pays\",\n",
    "       y = \"Émissions de CO2 (en tonnes)\") +\n",
    "  theme(axis.text.x = element_text(angle = 45, hjust = 1)) \n",
    "\n",
    "#Légende difficile à lire mais on voit une hétérogénéité entre les pays"
   ]
  },
  {
   "cell_type": "code",
   "execution_count": null,
   "id": "3dd91adb-a092-4fd5-b949-da08f3bd187a",
   "metadata": {},
   "outputs": [],
   "source": [
    "#On veut mtn voir les 5 pays les plus emetteurs en CO2:\n",
    "\n",
    "\n",
    "#On calcule les émissions maximales de CO2 par pays\n",
    "CO2_max <- data2 %>%\n",
    "  group_by(Entity) %>%\n",
    "  summarise(CO2 = max(CO2)) %>%\n",
    "  arrange(desc(CO2)) %>%\n",
    "  head(5)\n",
    "\n",
    "ggplot(CO2_max, aes(x = reorder(Entity, CO2), y = CO2, fill = CO2)) +\n",
    "  geom_bar(stat = \"identity\") +\n",
    "  labs(title = \"Top 5 des pays ayant émis le plus de CO2\",\n",
    "       x = \"Pays\",\n",
    "       y = \"Émissions de CO2\",\n",
    "       fill = \"Émissions de CO2\") +\n",
    "  scale_fill_gradient(low = \"blue\", high = \"yellow\") +\n",
    "  theme(axis.text.x = element_text(angle = 45, hjust = 1))  # Rotation des noms de pays sur l'axe x"
   ]
  },
  {
   "cell_type": "markdown",
   "id": "b57c93a2-1fb9-4a94-9096-c45712384b35",
   "metadata": {},
   "source": [
    "# Analyse descriptive multidimensionnelle"
   ]
  },
  {
   "cell_type": "markdown",
   "id": "1a51c9cc-b9fd-442f-bbc1-09fc8478a8ce",
   "metadata": {},
   "source": [
    "### Question 6\n"
   ]
  },
  {
   "cell_type": "code",
   "execution_count": null,
   "id": "a5980299-171e-417c-bf3e-9be519b86dd6",
   "metadata": {},
   "outputs": [],
   "source": [
    "str(data2)\n",
    "names(data2)"
   ]
  },
  {
   "cell_type": "code",
   "execution_count": null,
   "id": "3cf48a74-9f3f-45d2-960b-34b3c8bf89e3",
   "metadata": {},
   "outputs": [],
   "source": [
    "\n",
    "# On renomme les colonnes du dataframe 2\n",
    "data2 <- data2 %>%\n",
    "  rename(Access_to_electricity = Access.to.electricity....of.population.,\n",
    "         Access_to_clean_fuels_for_cooking = Access.to.clean.fuels.for.cooking,\n",
    "         Renewable_energy_share_in_the_total_final_energy_consumption = Renewable.energy.share.in.the.total.final.energy.consumption....,\n",
    "         Electricity_from_fossil_fuels = Electricity.from.fossil.fuels..TWh.,\n",
    "         Electricity_from_nuclear = Electricity.from.nuclear..TWh.,\n",
    "         Electricity_from_renewables = Electricity.from.renewables..TWh.,\n",
    "         Low_carbon_electricity = Low.carbon.electricity....electricity.,\n",
    "         Energy_intensity_level_of_primary_energy = Energy.intensity.level.of.primary.energy..MJ..2017.PPP.GDP.,\n",
    "         Density_n_P_Km2 = Density.n.P.Km2.,\n",
    "         Land_Area = Land.Area.Km2.)\n",
    "\n",
    "names(data2)"
   ]
  },
  {
   "cell_type": "code",
   "execution_count": null,
   "id": "bae1e543-c152-4917-86aa-3d14bdf65fe6",
   "metadata": {},
   "outputs": [],
   "source": [
    "# On convertit la variable \"Land-Area\" qui est en entier en réel\n",
    "data2 <- data2 %>%\n",
    "  mutate(Land_Area = as.numeric(Land_Area))\n",
    "str(data2)"
   ]
  },
  {
   "cell_type": "code",
   "execution_count": null,
   "id": "da0ceeeb-874c-471b-b391-4ad7a8c49d53",
   "metadata": {},
   "outputs": [],
   "source": [
    "names(data2)\n",
    "\n",
    "\n",
    "cols <- c('Access_to_electricity',\n",
    "          'Access_to_clean_fuels_for_cooking',\n",
    "          'Renewable_energy_share_in_the_total_final_energy_consumption',\n",
    "          'Electricity_from_fossil_fuels',\n",
    "          'Electricity_from_nuclear',\n",
    "          'Electricity_from_renewables',\n",
    "          'Low_carbon_electricity',\n",
    "          'Primary_energy_consumption_per_capita_new',\n",
    "          'Energy_intensity_level_of_primary_energy',\n",
    "          'CO2',\n",
    "          'gdp_growth',\n",
    "          'gdp_per_capita',\n",
    "          'Density_n_P_Km2',\n",
    "          'Land_Area',\n",
    "          'Latitude',\n",
    "          'Longitude')\n",
    "\n",
    "\n",
    "correlation_matrix <- cor(data2[cols])\n",
    "dim(data2)\n",
    "\n",
    "corrplot(correlation_matrix, \n",
    "          method = \"color\", \n",
    "          type = \"upper\", \n",
    "          tl.col = \"black\", \n",
    "          tl.srt = 45, \n",
    "          tl.cex = 0.7,\n",
    "          diag = FALSE,  \n",
    "          addCoef.col = \"black\",  \n",
    "          number.cex = 0.4,  \n",
    "          tl.pos = \"lt\")"
   ]
  },
  {
   "cell_type": "code",
   "execution_count": null,
   "id": "7972fc74-0d96-4896-ba4c-aaf36e417ae5",
   "metadata": {},
   "outputs": [],
   "source": [
    "corrplot(correlation_matrix, \n",
    "          method = \"ellipse\",  # Utiliser la méthode ellipse\n",
    "          tl.pos = \"lt\", type = \"upper\", \n",
    "          tl.col = \"black\", \n",
    "          tl.srt = 10, \n",
    "          tl.cex = 0.6)"
   ]
  },
  {
   "cell_type": "code",
   "execution_count": null,
   "id": "c1a1e68b-f48c-4334-8f05-6285db239c10",
   "metadata": {},
   "outputs": [],
   "source": [
    "#On trace un scatterplot pour toutes les variables de corrélation\n",
    "\n",
    "#pairs(data2[, c('Access_to_electricity', 'Access_to_clean_fuels_for_cooking', 'Renewable_energy_share_in_the_total_final_energy_consumption', 'Electricity_from_fossil_fuels', 'Electricity_from_nuclear', 'Electricity_from_renewables', 'Low_carbon_electricity', 'Primary_energy_consumption_per_capita_new', 'Energy_intensity_level_of_primary_energy', 'CO2', 'gdp_growth', 'gdp_per_capita', 'Density_n_P_Km2', 'Land_Area', 'Latitude', 'Longitude')], main = \"Scatterplot pour les variables de corrélation\")\n",
    "\n",
    "#On voit pas grand chose, on va essayer de tracer plutôt un scatterplot pour les deux variables les plus corrélées"
   ]
  },
  {
   "cell_type": "code",
   "execution_count": null,
   "id": "0441ab16-2615-4cd0-a28d-64b6e850a2d2",
   "metadata": {},
   "outputs": [],
   "source": [
    "#On veut voir quelles sont les paires de variables les plus corrélées\n",
    "paires_plus_cor <- which(correlation_matrix == max(correlation_matrix[lower.tri(correlation_matrix)], na.rm = TRUE), arr.ind = TRUE)\n",
    "\n",
    "#On affiche ces variables\n",
    "var_plus_cor <- colnames(correlation_matrix)[paires_plus_cor[, 1]]\n",
    "var_plus_cor"
   ]
  },
  {
   "cell_type": "code",
   "execution_count": null,
   "id": "501a6b86-3f98-4427-894e-988818370f67",
   "metadata": {},
   "outputs": [],
   "source": [
    "\n",
    "#On affiche un nuage de points pour visualiser les relations entre les paires de variables les plus corrélées\n",
    "scatterplot <- ggplot(data2, aes(x = Electricity_from_fossil_fuels, y = CO2)) +\n",
    "  geom_point() +  \n",
    "  labs(title = \"Relation entre les variables les plus corrélées : C02 et Electricity_from_fossil_fuels\",\n",
    "       x = \"Electricity_from_fossil_fuels\",\n",
    "       y = \"CO2\")\n",
    "\n",
    "scatterplot"
   ]
  },
  {
   "cell_type": "markdown",
   "id": "84925132-86ff-4bc2-b97f-71ea5f072e35",
   "metadata": {},
   "source": [
    "### Question 7"
   ]
  },
  {
   "cell_type": "code",
   "execution_count": null,
   "id": "34bcaeb6-f82f-4b27-8ca3-854b7d8a4986",
   "metadata": {},
   "outputs": [],
   "source": [
    "#On fait une ACP\n",
    "#On met \"true\" pour standardiser les données\n",
    "\n",
    "pca <- PCA(data2,quali.sup=c(1,2), scale. = TRUE,graph=FALSE)\n",
    "summary(pca)\n",
    "\n",
    "fviz_pca_ind(pca,geom=c(\"point\"), habillage = data2[,2])"
   ]
  },
  {
   "cell_type": "markdown",
   "id": "62e8932b-5d25-4458-a41c-c917e3149879",
   "metadata": {},
   "source": [
    "En 2 dimensions on explique 50% de la variance, on distingue bcp\n",
    "d’outliers"
   ]
  },
  {
   "cell_type": "code",
   "execution_count": null,
   "id": "8afe3600-a5d1-4bbf-a4e5-64a3797b13f0",
   "metadata": {},
   "outputs": [],
   "source": [
    "#On affiche la qualité de représentation des variables : comment les axes permettent d'expliquer les variables\n",
    "q1=fviz_pca_var(pca, col.var=\"cos2\",repel=TRUE,gradient.cols=c(\"#00afbb\",\"red\",\"yellow\"))\n",
    "q1\n"
   ]
  },
  {
   "cell_type": "code",
   "execution_count": null,
   "id": "1bbdda56-f558-494f-bbd8-da74d38f2ed2",
   "metadata": {},
   "outputs": [],
   "source": [
    "#On affiche la contribution des variables aux axes\n",
    "\n",
    "c1=fviz_pca_var(pca,col.var=\"contrib\",repel=TRUE,gradient.cols=c(\"#00afbb\",\"red\",\"yellow\"))\n",
    "c1"
   ]
  },
  {
   "cell_type": "code",
   "execution_count": null,
   "id": "a4dd1cd0-7554-4679-a02f-3c3cddad6b1b",
   "metadata": {},
   "outputs": [],
   "source": [
    "q2=fviz_pca_ind(pca, col.ind=\"cos2\",geom=c(\"point\"),gradient.cols=c(\"#00afbb\",\"red\",\"yellow\"))\n",
    "q2"
   ]
  },
  {
   "cell_type": "markdown",
   "id": "77914273-e5e8-43d9-9538-340ff37ecccb",
   "metadata": {},
   "source": [
    "Les individus proches de 0 sont mal expliqués\n"
   ]
  },
  {
   "cell_type": "code",
   "execution_count": null,
   "id": "920da631-1a8c-4449-bc83-da95d6a498e9",
   "metadata": {},
   "outputs": [],
   "source": [
    "c2=fviz_pca_ind(pca, col.ind=\"contrib\",geom=c(\"point\"),gradient.cols=c(\"#00afbb\",\"red\",\"yellow\"))\n",
    "c2"
   ]
  },
  {
   "cell_type": "code",
   "execution_count": null,
   "id": "c00cfbbe-281f-476f-8fcf-54905009923c",
   "metadata": {},
   "outputs": [],
   "source": [
    "fviz_eig(pca)"
   ]
  },
  {
   "cell_type": "markdown",
   "id": "34abe5f2-5aed-41f6-95e3-de1e375cc792",
   "metadata": {},
   "source": [
    "Plus la proportion de variance expliquée est élevée pour une composante principale donnée, plus cette composante principale est importante pour représenter la structure des données : la 1ère composante est celle qui est la plus importante ici"
   ]
  },
  {
   "cell_type": "markdown",
   "id": "f3d1e3e8-cecb-4820-84e6-a043145181f1",
   "metadata": {},
   "source": [
    "### Question 8"
   ]
  },
  {
   "cell_type": "code",
   "execution_count": null,
   "id": "e6dd9171-0887-416d-bf3f-0fb71d225f39",
   "metadata": {},
   "outputs": [],
   "source": [
    "#On affiche une dépendance linéaire entre les variables C02 et Year\n",
    "\n",
    "ggplot(data2, aes(x = Year, y = CO2)) +\n",
    "  geom_point() +  \n",
    " labs(title = \"Dépendance entre l'année et les émissions de CO2\",\n",
    "       x = \"Année\",\n",
    "       y = \"Émissions de CO2 (en kt)\")"
   ]
  },
  {
   "cell_type": "code",
   "execution_count": null,
   "id": "f351cf4f-da06-4925-92ee-37e17572e589",
   "metadata": {},
   "outputs": [],
   "source": [
    "#On fait la même chose mais avec un graphique intéractif pour avoir la valeur exacte de CO2 en chaque point\n",
    "plot_ly(data = data4, x = ~Year, y = ~CO2, type = \"scatter\", mode = \"markers\")"
   ]
  },
  {
   "cell_type": "code",
   "execution_count": null,
   "id": "075cfbf8-4a77-4d3b-9504-30a54bc84ff0",
   "metadata": {},
   "outputs": [],
   "source": [
    "#On trace un graphique en violon des émissions de CO2 par année\n",
    "\n",
    "ggplot(data2, aes(x = Year, y = CO2)) +\n",
    "  geom_violin(fill = \"purple\") +\n",
    "  labs(title = \"Emissions de CO2 par année\",\n",
    "       x = \"Année\",\n",
    "       y = \"Émissions de CO2 (en kt)\")\n",
    "\n"
   ]
  },
  {
   "cell_type": "code",
   "execution_count": null,
   "id": "47a9b632-044e-4496-bf9d-06bc5f3cb273",
   "metadata": {},
   "outputs": [],
   "source": [
    "#Diagramme en boîte des émissions de CO2 par année\n",
    "\n",
    "ggplot(data2, aes(x = Year, y = CO2)) +\n",
    "  geom_boxplot(fill = \"purple\") +\n",
    "  labs(title = \"Diagramme en boite des émissions de CO2 par année\",\n",
    "       x = \"Année\",\n",
    "       y = \"Émissions de CO2 (en kt)\")"
   ]
  },
  {
   "cell_type": "code",
   "execution_count": null,
   "id": "481a0009-132f-42e5-aa29-fb55bd342079",
   "metadata": {},
   "outputs": [],
   "source": [
    "#On créé un df avec les valeurs max de CO2 par année\n",
    "\n",
    "CO2_max_year <- aggregate(data2$CO2, by=list(Year=data2$Year), FUN=max)\n",
    "CO2_max_year <- CO2_max_year[order(CO2_max_year$x),]\n",
    "CO2_max_year20 <- head(CO2_max_year, 20)\n",
    "names(CO2_max_year20) <- c(\"Year\", \"CO2\")\n",
    "\n",
    "# Création du graphique à barres\n",
    "fig <- ggplot(CO2_max_year20, aes(x = Year, y = CO2, fill = CO2)) +\n",
    "  geom_bar(stat = \"identity\") +\n",
    "  labs(x = \"Year\", y = \"Emissions CO2\", title = \"Quantité de CO2 maximale en fonction des années\") +\n",
    "  theme_minimal()\n",
    "\n",
    "print(fig )"
   ]
  },
  {
   "cell_type": "code",
   "execution_count": null,
   "id": "b3ad8d69-bc73-46dc-b98b-7073e05c851b",
   "metadata": {},
   "outputs": [],
   "source": [
    "#Le max des CO2 n'est pas judicieux car on a bcp de outliers\n",
    "\n",
    "#On créé un df avec les valeurs moyennes de CO2 par année\n",
    "\n",
    "CO2_moy_year <- aggregate(data2$CO2, by=list(Year=data2$Year), FUN=mean)\n",
    "CO2_moy_year <- CO2_moy_year[order(CO2_moy_year$x),]\n",
    "CO2_moy_year20 <- head(CO2_moy_year, 20)\n",
    "names(CO2_moy_year20) <- c(\"Year\", \"CO2\")\n",
    "\n",
    "# Création du graphique à barres\n",
    "fig <- ggplot(CO2_moy_year20, aes(x = Year, y = CO2, fill = CO2)) +\n",
    "  geom_bar(stat = \"identity\") +\n",
    "  labs(x = \"Year\", y = \"Emissions CO2\", title = \"Quantité de CO2 moyenne en fonction des années\") +\n",
    "  theme_minimal()\n",
    "\n",
    "print(fig )"
   ]
  },
  {
   "cell_type": "code",
   "execution_count": null,
   "id": "7de98441-5c6d-4807-acc2-56fe9e677813",
   "metadata": {},
   "outputs": [],
   "source": [
    "#Diagramme en boîte des émissions de CO2 par année\n",
    "data_log <- data2\n",
    "data_log <- data_log[, 11, drop = FALSE]  # Conserver la structure de dataframe\n",
    "data_log[, 1] <- log(data_log[, 1])  # Appliquer log à la colonne extraite\n",
    "data_log$Year <- data4$Year  # Réattribuer la colonne Year\n",
    "\n",
    "\n",
    "ggplot(data_log, aes(x = Year, y = CO2)) +\n",
    "  geom_boxplot(fill = \"purple\") +\n",
    "  labs(title = \"Diagramme en boite des émissions de CO2 par année\",\n",
    "       x = \"Année\",\n",
    "       y = \"Émissions de CO2 (en kt)\")"
   ]
  },
  {
   "cell_type": "code",
   "execution_count": null,
   "id": "f835149a-2175-4208-bdb9-bb952fce66c7",
   "metadata": {},
   "outputs": [],
   "source": [
    "#On va faire une ANOVA à 1 facteur pour analyser la dépendance d'une variable quantitative avec une variable qualitative\n",
    "\n",
    "model1 <- lm(CO2 ~ Year, data = data2)\n",
    "summary(model1)"
   ]
  },
  {
   "cell_type": "code",
   "execution_count": null,
   "id": "e8f6b5d2-7385-48f2-bfa7-da053a545243",
   "metadata": {},
   "outputs": [],
   "source": [
    "#On créé un 2ème modèle pour comparer avec le précédent \n",
    "model2 <- lm(CO2 ~ 1, data = data2)\n",
    "\n",
    "#On compare le sous modèle avec le modèle1, on a une p-val>0.05, c'est sur qu'on accepte ce sous modèle.\n",
    "anova(model2,model1)"
   ]
  },
  {
   "cell_type": "code",
   "execution_count": null,
   "id": "f1c84b41-fe7c-48cc-a356-0f34065aa9b5",
   "metadata": {},
   "outputs": [],
   "source": [
    "#On vérifie ces résultats avec un test d'indépendance du chi2\n",
    "chi2_test <- chisq.test(data2$CO2, data2$Year)\n",
    "print(chi2_test)\n",
    "\n",
    "#pval=0.14>0.05 : on rejette pas H0, CO2 et Year sont indépendants"
   ]
  },
  {
   "cell_type": "code",
   "execution_count": null,
   "id": "6bec2a1f-d79a-46a5-bb24-a05ef89679c7",
   "metadata": {},
   "outputs": [],
   "source": [
    "#On se rend compte que sur les tests on peut enlever l'année alors que sur les graphes des quantités moyennes de CO2 on voit quand même une augmentation au fil des années\n",
    "\n",
    "#On essaye donc de faire un modèle en fonction du pays et de l'année\n",
    "model3 <- lm(CO2 ~ Year+Entity, data = data2)\n",
    "summary(model3)"
   ]
  },
  {
   "cell_type": "markdown",
   "id": "a2aab871-7cd1-4bb6-891d-1ef6eac3df37",
   "metadata": {},
   "source": [
    "Le R^2 est de 0.93 donc modèle bcp mieux\n"
   ]
  },
  {
   "cell_type": "code",
   "execution_count": null,
   "id": "9975f965-1a9a-4014-b397-83023f7530e5",
   "metadata": {},
   "outputs": [],
   "source": [
    "#On fait mtn un sous modèle en fonction seulement du pays\n",
    "model4=lm(CO2 ~ Entity, data = data2)\n",
    "#On compare ce sous modèle avec le précédent\n",
    "anova(model4,model3)"
   ]
  },
  {
   "cell_type": "markdown",
   "id": "4faefb00-bcaa-4835-a621-03121310674f",
   "metadata": {},
   "source": [
    "On voit que pval=0.15\\>0.05, donc on peut garder le sous modèle et donc\n",
    "l’effet de l’année est en fait négligeable par rapport à celui du pays"
   ]
  },
  {
   "cell_type": "markdown",
   "id": "42a14256-91c8-446e-92a7-ab6bf11055d3",
   "metadata": {},
   "source": [
    "\n",
    "\n",
    "\n",
    "\n",
    "``` {r}\n",
    "#----------------------------------------------PARTIE 2--------------------------------------------------------------------\n",
    "\n",
    "\n",
    "\n",
    "\n",
    "#QUESTION 1\n",
    "data6 <- subset(data4, select =-Electricity_from_fossil_fuels)\n",
    "#data6 <- data4 %>% \n",
    "#  select(-Electricity_from_fossil_fuels)\n",
    "```\n",
    "\n",
    "``` {r}\n",
    "data6$Entity <- as.factor(data6$Entity)\n",
    "class(data6$Entity)\n",
    "```\n",
    "\n",
    "``` {r}\n",
    "names(data6) \n",
    "\n",
    "#On sélectionne les variables prédictives : toutes sauf la variable à prédire\n",
    "#On enlève également les variables quantitatives\n",
    "data7 <- subset(data6, select =-c(Entity,Year))\n",
    "\n",
    "X <- subset(data7, select = -c(CO2))\n",
    "\n",
    "#On garde la variable à prédire : CO2\n",
    "\n",
    "y <- data7$CO2\n",
    "\n",
    "\n",
    "\n",
    "#On divise les données en un ensemble d'apprentissage et un ensemble de test\n",
    "set.seed(123)\n",
    "\n",
    "#Ici on garde que 20% des données pour l'échantillon test\n",
    "\n",
    "train_index <- createDataPartition(y, p = 0.8, list = FALSE)\n",
    "\n",
    "#Données d'apprentissage :\n",
    "\n",
    "train_data <- data7[train_index, ]\n",
    "\n",
    "#Données de test :\n",
    "test_data <- data7[-train_index, ]\n",
    "\n",
    "# vérification\n",
    "str(train_data)\n",
    "str(test_data)\n",
    "\n",
    "\n",
    "```\n",
    "\n",
    "``` {r}\n",
    "#Pour pouvoir comparer les modèles, on créé une fonction qui permet de tracer les résidus avec une échelle fixe\n",
    "gplot.res <- function(x, y, titre = \"titre\"){\n",
    "    ggplot(data.frame(x=x, y=y),aes(x,y))+\n",
    "    geom_point(col = \"blue\")+\n",
    "    ylab(\"Résidus\")+ xlab(\"Valeurs prédites\")+\n",
    "    ggtitle(titre)+\n",
    "    geom_hline(yintercept = 0,col=\"green\")\n",
    "}\n",
    "```\n",
    "\n",
    "``` {r}\n",
    "#QUESTION 2\n",
    "\n",
    "\n",
    "\n",
    "# 1) Regression linéaire\n",
    "\n",
    "\n",
    "#Sans sélection de variables\n",
    "\n",
    "lm_model_complet <- aov(CO2 ~ ., data = train_data)\n",
    "res.lm <- lm_model_complet$residuals\n",
    "fit.lm <- lm_model_complet$fitted.values\n",
    "gplot.res(fit.lm,res.lm,\"ANCOVA sans sélection de variables\")\n",
    "```\n",
    "\n",
    "``` {r}\n",
    "\n",
    "#Avec sélection de variables : on cherche les variables à garder\n",
    "\n",
    "lm_model_AIC<- stepAIC(lm_model_complet, trace=FALSE)\n",
    "#summary(lm_model_AIC)\n",
    "res.lm.selec <- lm_model_AIC$residuals\n",
    "fit.lm.selec <- lm_model_AIC$fitted.values\n",
    "gplot.res(fit.lm.selec,res.lm.selec,\"ANCOVA avec sélection de variables\")\n",
    "```\n",
    "\n",
    "``` {r}\n",
    "\n",
    "#Avec pénalisation (par exemple Lasso)\n",
    "\n",
    "#On enlève la variable C02 et on transforme en matrice\n",
    "\n",
    "x=as.matrix(train_data[-1])\n",
    "y=train_data$CO2\n",
    "\n",
    "#On fait avec validation croisée\n",
    "\n",
    "lasso_model <- cv.glmnet(x, y, alpha = 1)\n",
    "res.lasso <- lasso_model$residuals\n",
    "fit.lasso <- lasso_model$fitted.values\n",
    "gplot.res(fit.lasso,res.lasso,\"ANCOVA avec Lasso\")\n",
    "\n",
    "\n",
    "#ou----------------------------------------------------------------------------------------------\n",
    "\n",
    "x.mat <- model.matrix(CO2 ~ . - 1, data = train_data) #notre x.mat c'est récupéré juste la matrice de design dans notre modèle où on enlève un intercept, \n",
    "                                                     #cad qu'on va prendre 2 modalités pour jour, soit on a un intercept soit on prend toutes les modalités pour une var; \n",
    "                                                     #mais on garde toujours 4modalités/5 pour la station\n",
    "reg.lasso <- glmnet(y = train_data$CO2, x = x.mat)\n",
    "options(repr.plot.width = 12, repr.plot.height = 10)\n",
    "plot(reg.lasso, xvar = \"lambda\", label = TRUE)\n",
    "#legend(\"topright\", \n",
    "       #legend = paste(1:ncol(x.mat), \" - \", colnames(x.mat)))\n",
    "```\n",
    "\n",
    "``` {r}\n",
    "#2) SVM\n",
    "\n",
    "#Avec noyau linéaire\n",
    "\n",
    "svm_model_linear <- svm(CO2 ~ ., data = train_data, kernel = \"linear\")\n",
    "\n",
    "#Avec noyau gaussien \n",
    "\n",
    "svm_model_gaussien <- svm(CO2 ~ ., data = train_data, kernel = \"radial\")\n",
    "\n",
    "#On fait SVM en régression sur le noyau par défaut, le \"radial\"-> Gaussien\n",
    "\n",
    "svm_model0 = svm(CO2 ~ ., data = train_data)\n",
    "set.seed(2021)\n",
    "svm.reg.tune = tune.svm(CO2 ~ ., data = train_data, cost = c(1,10,100,1000), \n",
    "    gamma = seq(0.0, 0.3, by = 0.05))\n",
    "plot(svm.reg.tune)\n",
    "\n",
    "\n",
    "```\n",
    "\n",
    "``` {r}\n",
    "svm_reg = svm(CO2 ~ ., data = train_data, cost = svm.reg.tune$best.parameters$cost, \n",
    "    gamma = svm.reg.tune$best.parameters$gamma)\n",
    "summary(svm_reg)\n",
    "```\n",
    "\n",
    "On voit que le modèle optimal est celui avec le noyau gaussien et un\n",
    "cout de 3,5.\n",
    "\n",
    "``` {r}\n",
    "#Tracé des résidus\n",
    "fit.svmr = svm_reg$fitted\n",
    "res.svmr = fit.svmr - train_data[,\"CO2\"]\n",
    "\n",
    "gplot.res(fit.svmr,res.svmr,titre=\"Residus SVM\")\n",
    "\n",
    "\n",
    "plot(res.svmr, main = \"Residus SVM\", ylim = c(min(res.svmr), max(res.svmr)))\n",
    "```\n",
    "\n",
    "``` {r}\n",
    "#3) Arbre de décision\n",
    "\n",
    "#Sélection des paramètres optimaux par validation croisée\n",
    "tree_model <- rpart(CO2 ~ ., data = train_data, control=rpart.control(cp=c(0.00001,0.0001,0.001, 0.01, 0.1)))\n",
    "options(repr.plot.width = 500, repr.plot.height = 500)\n",
    "rpart.plot(tree_model)\n",
    "```\n",
    "\n",
    "``` {r}\n",
    "\n",
    "#On créé une matrice contenant les prédictions de l'arbre de décision tree_model pour chaque observation du jeu de données\n",
    "#Chaque ligne correspond à une observation et chaque colonne à une valeur de CP\n",
    "\n",
    "xmat<-xpred.rpart(tree_model,xval=10) \n",
    "\n",
    "#Erreur de validation croisée pour chaque valeur de CP\n",
    "\n",
    "CVerr<-apply((xmat-train_data[,\"CO2\"])^2,2,sum)\n",
    "\n",
    "plotcp(tree_model)\n",
    "```\n",
    "\n",
    "``` {r}\n",
    "#On trouve le cp qui minimise l'erreur pour construire l'arbre optimal\n",
    "which.min(CVerr)\n",
    "```\n",
    "\n",
    "La taille de l’arbre qui minimise vaut 8\n",
    "\n",
    "``` {r}\n",
    "as.numeric(attributes(which.min(CVerr))$names)\n",
    "tree_opt_model=rpart(CO2~.,data=train_data,control=rpart.control(cp=as.numeric(attributes(which.min(CVerr))$names)))\n",
    "rpart.plot(tree_opt_model,type=5,extra=101)\n",
    "```\n",
    "\n",
    "``` {r}\n",
    "plot(as.party(tree_opt_model), type=\"simple\")\n",
    "```\n",
    "\n",
    "``` {r}\n",
    "#Tracé des résidus \n",
    "\n",
    "fit.tree=predict(tree_opt_model)\n",
    "res.tree=fit.tree-train_data[,\"CO2\"]\n",
    "gplot.res(fit.tree,res.tree,\"Residus de l'arbre optimal\")\n",
    "plot(res.tree, main = \"Residus  de l'arbre optimal\", ylim = c(min(res.tree), max(res.tree)))\n",
    "```\n",
    "\n",
    "``` {r}\n",
    "#4) Forêt aléatoire\n",
    "\n",
    "\n",
    "#Sélection des paramètres optimaux par validation croisée\n",
    "\n",
    "\n",
    "rf_model <- randomForest(CO2 ~ ., data = train_data, ntree = 500)\n",
    "```\n",
    "\n",
    "``` {r}\n",
    "#Tracé des résidus\n",
    "fit.rf=rf_model$predicted\n",
    "res.rf=fit.rf-train_data[,\"CO2\"]\n",
    "gplot.res(fit.rf,res.rf,titre=\"Residus RandomForest\")\n",
    "```\n",
    "\n",
    "``` {r}\n",
    "#Tracé des résidus sur l'échantillon de test\n",
    "fit.rf=rf_model$predicted\n",
    "res.rf=fit.rf-test_data[,\"CO2\"]\n",
    "\n",
    "gplot.res(fit.rf,res.rf,titre=\"Residus RandomForest\")\n",
    "\n",
    "\n",
    "plot(res.rf, main = \"Residus RandomForest\", ylim = c(min(res.rf), max(res.rf)))\n",
    "```\n",
    "\n",
    "``` {r}\n",
    "#5) Boosting\n",
    "\n",
    "\n",
    "\n",
    "#Sélection des paramètres optimaux par validation croisée\n",
    "\n",
    "boost_model <- gbm(CO2 ~ ., data = train_data, distribution = \"gaussian\", n.trees = 1000, \n",
    "    cv.folds = 10, n.minobsinnode = 5, shrinkage = 0.03, verbose = FALSE)\n",
    "plot(boost_model$cv.error, type = \"l\")\n",
    "\n",
    "\n",
    "```\n",
    "\n",
    "``` {r}\n",
    "#Nombre optimal d'itérations par valiation croisée\n",
    "best.iter=gbm.perf(boost_model,method=\"cv\")\n",
    "```\n",
    "\n",
    "``` {r}\n",
    "#On fait varier le coefficient de rétrécissement\n",
    "\n",
    "#On vérifie donc qu'il n'y a pas de sur-ajustement : l'erreur reste stable autour du nombre d'arbres sélectionné et matérialisé par la ligne verticale\n",
    "\n",
    "test=numeric()\n",
    "for (i in 10:1000){\n",
    "pred.test=predict(boost_model,newdata=test_data,n.trees=i)\n",
    "err=sum((pred.test-test_data[,\"CO2\"])^2)/nrow(test_data)\n",
    "test=c(test,err)}\n",
    "plot(10:1000,test,type=\"l\")\n",
    "abline(v=best.iter)\n",
    "```\n",
    "\n",
    "``` {r}\n",
    "#6) Réseau de neurones\n",
    "\n",
    "\n",
    "# Sélection des paramètres optimaux par validation croisée\n",
    "#reseau_model <- neuralnet(CO2 ~ ., data = train_data, hidden = c(5, 2))\n",
    "\n",
    "\n",
    "# Entraînement du modèle de réseau de neurones pour la régression\n",
    "# Assurez-vous d'adapter les noms des variables et le nom de l'ensemble de données en fonction de votre cas spécifique\n",
    "\n",
    "res_neurones <- nnet(CO2 ~ ., data = train_data, size = 5, decay = 1, linout = TRUE, maxit = 500) \n",
    "```\n",
    "\n",
    "``` {r,eval=f}\n",
    "#On optimise les paramètres avec la validation croisée\n",
    "\n",
    "plot(tune.nnet(CO2 ~ ., data = train_data, size = c(5, 10, 20), decay = c(1, 2, 3), maxit = 200, linout = TRUE))\n",
    "plot(tune.nnet(CO2 ~ ., data = train_data, size = 5:20, decay = 1:10))\n",
    "```\n",
    "\n",
    "``` {r}\n",
    "#On fait un modèle avec les paramètres optimisés \n",
    "\n",
    "res_neurones_opt=nnet(CO2~.,data=train_data,size=3,decay=2,linout=TRUE,maxit=200)\n",
    "\n",
    "#On trace les résidus \n",
    "fit.nnetr=predict(res_neurones_opt,data=train_data)\n",
    "res.nnetr=fit.nnetr-train_data[,\"CO2\"]\n",
    "gplot.res(fit.nnetr,res.nnetr,titre=\"\")\n",
    "```\n",
    "\n",
    "``` {r}\n",
    "#QUESTION 3\n",
    "\n",
    "#Prédiction sur l'ensemble de test\n",
    "#Pour chaque modèle on va calculer l'erreur de généralisation\n",
    "\n",
    "\n",
    "#Calculs des prédictions sur l'échantillon test pour tous les modèles optimaux\n",
    "\n",
    "lm_AIC_pred <- predict(lm_model_AIC, newdata = test_data)\n",
    "svm_pred <- predict(svm_reg, newdata = test_data)\n",
    "tree_pred <- predict(tree_opt_model, newdata = test_data)\n",
    "rf_pred <- predict(rf_model, newdata = test_data)\n",
    "boost_pred <- predict(boost_model, newdata = test_data)\n",
    "\n",
    "#Calculs des métriques de performance\n",
    "\n",
    "lm_AIC_rmse <- RMSE(lm_AIC_pred, test_data$CO2)\n",
    "svm_rmse <- RMSE(svm_pred, test_data$CO2)\n",
    "tree_rmse<- RMSE(tree_pred, test_data$CO2)\n",
    "rf_rmse <- RMSE(rf_pred, test_data$CO2)\n",
    "boost_rmse <- RMSE(boost_pred, test_data$CO2)\n",
    "\n",
    "#On affiche les erreurs de généralisation calculées\n",
    "\n",
    "cat(\"RMSE pour le modèle de régression linéaire avec AIC :\", lm_AIC_rmse, \"\\n\")\n",
    "cat(\"RMSE pour le modèle SVM :\", svm_rmse, \"\\n\")\n",
    "cat(\"RMSE pour le modèle d'arbre :\", tree_rmse, \"\\n\")\n",
    "cat(\"RMSE pour le modèle de forêt aléatoire :\", rf_rmse, \"\\n\")\n",
    "cat(\"RMSE pour le modèle Boosting :\", boost_rmse, \"\\n\")\n",
    "```\n",
    "\n",
    "``` {r}\n",
    "\n",
    "\n",
    "#On fait les prédictions des différents modèles\n",
    "predictions <- data.frame(\n",
    "  LM_AIC = lm_AIC_pred,\n",
    "  SVM = svm_pred,\n",
    "  Tree = tree_pred,\n",
    "  Random_forest=rf_pred,\n",
    "  Boost=boost_pred\n",
    ")\n",
    "\n",
    "predictions$True <- test_data$CO2\n",
    "\n",
    "\n",
    "ggplot(predictions, aes(x = True)) +\n",
    "  geom_point(aes(y = LM_AIC, color = \"LM_AIC\"), size = 2, alpha = 0.5) + \n",
    "  geom_point(aes(y = SVM, color = \"SVM\"), size = 2, alpha = 0.5) + \n",
    "  geom_point(aes(y = Tree, color = \"Tree\"), size = 2, alpha = 0.5) +\n",
    "  geom_point(aes(y = Random_forest, color = \"Random Forest\"), size = 2, alpha = 0.5) +\n",
    "  geom_point(aes(y = Boost, color = \"Boosting\"), size = 2, alpha = 0.5)+\n",
    "  geom_abline(slope = 1, intercept = 0, linetype = \"dashed\") + \n",
    "  labs(title = \"Comparaison des prédictions par rapport aux vraies valeurs\",\n",
    "       x = \"Vraies valeurs de CO2\",\n",
    "       y = \"Valeurs prédites\",\n",
    "       color = \"Modèles\") + \n",
    "  scale_color_manual(values = c(\"blue\", \"red\", \"green\",\"pink\",\"orange\"), labels = c(\"LM_AIC\", \"SVM\", \"Tree\",\"Random Forest\", \"Boosting\")) + # \n",
    "  theme_minimal()\n",
    "\n",
    "```\n",
    "\n",
    "``` {r}\n",
    "#QUESTION 4 \n",
    "\n",
    "#On regarde l'importance des variables \n",
    "\n",
    "\n",
    "#Pour RandomForest:\n",
    "importance <- round(importance(rf_model)[, 1], 2)\n",
    "importance_sorted <- sort(importance, decreasing = TRUE)\n",
    "\n",
    "#On affiche seulement les 10 premières variables les plus importantes\n",
    "\n",
    "top_10_importance <- importance_sorted[1:10]\n",
    "print(top_10_importance)\n",
    "\n",
    "#On voit que pour Rf, c'est Electricity_from_renewables qui est la plus importante\n",
    "varImpPlot(rf_model)\n",
    "\n",
    "plot(gg_vimp(rf_model))\n",
    "\n",
    "\n",
    "```\n",
    "\n",
    "On a des résultats cohérents : les variables\n",
    "Electricity_from_renewables, Land_area et Electricity_from_nuclear sont\n",
    "très corrélées avec la variable C02 dans notre matrice de corrélation de\n",
    "la partie 1. On voit que ce sont les 3 variables les plus importantes\n",
    "pour le modèle de Random Forest.\n",
    "\n",
    "``` {r}\n",
    "#Pour les arbres\n",
    "\n",
    "rpart.plot(tree_model)\n",
    "```\n",
    "\n",
    "Pour les arbres on voit que la variable la plus importante est\n",
    "Electricity_from_renewables (car en haut de l’arbre), c’est donc\n",
    "également cohérent.\n",
    "\n",
    "``` {r}\n",
    "#Pour la regression linéaire\n",
    "#cat(\"Coeff de Lasso :\", coefficients(lasso_model), \"\\n\")\n",
    "\n",
    "coefficients(lm_model_AIC)\n",
    "\n",
    "which.max(coefficients(lm_model_AIC))\n",
    "which.max(coefficients(lm_model_complet))\n",
    "\n",
    "coefficients(lm_model_complet)\n",
    "```\n",
    "\n",
    "``` {r}\n",
    "\n",
    "#Pour la regression linéaire on affiche les coeff des variables \n",
    "\n",
    "#Modele AIC\n",
    "\n",
    "variable_names <- names(coefficients(lm_model_AIC))\n",
    "coefficients <- coef(lm_model_AIC)\n",
    "\n",
    "reg_aic_coefficients <- data.frame(\n",
    "  Variables = variable_names,\n",
    "  Coefficient = coefficients\n",
    ")\n",
    "\n",
    "#On enlève l'intercept pour le graphe\n",
    "reg_aic_coefficients <- reg_aic_coefficients[reg_aic_coefficients$Variables != \"(Intercept)\", ]\n",
    "ggplot(reg_aic_coefficients, aes(x = Variables, y = Coefficient)) +\n",
    "  geom_bar(stat = \"identity\", fill = \"skyblue\", width = 0.5) +\n",
    "  coord_flip() +\n",
    "  labs(title = \"Coeff pour le modèle AIC\",\n",
    "       x = \"Variables\",\n",
    "       y = \"Coefficient\") +\n",
    "  theme_minimal()\n",
    "```\n",
    "\n",
    "``` {r}\n",
    "#Modele complet\n",
    "\n",
    "variable_names <- names(coefficients(lm_model_complet))\n",
    "coefficients <- coef(lm_model_complet)\n",
    "\n",
    "reg_complet_coefficients <- data.frame(\n",
    "  Variables = variable_names,\n",
    "  Coefficient = coefficients\n",
    ")\n",
    "\n",
    "#On enlève l'intercept pour le graphe\n",
    "reg_complet_coefficients <- reg_complet_coefficients[reg_complet_coefficients$Variables != \"(Intercept)\", ]\n",
    "ggplot(reg_complet_coefficients, aes(x = Variables, y = Coefficient)) +\n",
    "  geom_bar(stat = \"identity\", fill = \"skyblue\", width = 0.5) +\n",
    "  coord_flip() +\n",
    "  labs(title = \"Coeff pour le modèle reg complet\",\n",
    "       x = \"Variables\",\n",
    "       y = \"Coefficient\") +\n",
    "  theme_minimal()\n",
    "```\n",
    "\n",
    "``` {r}\n",
    "coefficients(boost_model)\n",
    "```\n",
    "\n",
    "``` {r}\n",
    "\n",
    "#Pour SVM on affiche les coeff des variables \n",
    "\n",
    "variable_names <- names(coef(svm_model_linear))\n",
    "coefficients <- coef(svm_model_linear)\n",
    "\n",
    "svm_coefficients <- data.frame(\n",
    "  Variables = variable_names,\n",
    "  Coefficient = coefficients\n",
    ")\n",
    "\n",
    "#On enlève l'intercept pour le graphe\n",
    "svm_coefficients <- svm_coefficients[svm_coefficients$Variables != \"(Intercept)\", ]\n",
    "ggplot(svm_coefficients, aes(x = Variables, y = Coefficient)) +\n",
    "  geom_bar(stat = \"identity\", fill = \"skyblue\", width = 0.5) +\n",
    "  coord_flip() +\n",
    "  labs(title = \"Coeff pour le modèle SVM\",\n",
    "       x = \"Variables\",\n",
    "       y = \"Coefficient\") +\n",
    "  theme_minimal()\n",
    "```\n",
    "\n",
    "On voit également que c’est Electricty_from_renewables qui est la plus\n",
    "importante.\n",
    "\n",
    "``` {r}\n",
    "#QUESTION 5\n",
    "\n",
    "#Imputation des données manquantes par la moyenne de chaque variable\n",
    "\n",
    "#On impute que pour les variables quantitatives (ici pas de pb puisque les 2 qualitatives Year et Entity n'avaient pas de données manquantes)\n",
    "data_imputed <- data2 %>% \n",
    "                      mutate_if(is.numeric, ~ifelse(is.na(.), mean(., na.rm = TRUE), .))\n",
    "\n",
    "#On enlève Electricity.from.fossil.fuels.TWh pour rester cohérent\n",
    "\n",
    "data_imputed <- subset(data_imputed, select = -c(Electricity.from.fossil.fuels..TWh.))\n",
    "\n",
    "#On vérifie qu'il n'y a plus de données manquantes\n",
    "données_manquantes <- colSums(is.na(data_imputed))\n",
    "print(données_manquantes)\n",
    "\n",
    "fig <- plot_ly(x = names(données_manquantes), y = données_manquantes, type = \"bar\", \n",
    "               name = \"Valeurs manquantes par variables\", \n",
    "               marker = list(color = \"purple\"),\n",
    "               xlab = \"Variables\", ylab = \"Nombre de valeurs manquantes\",\n",
    "               title = \"Valeurs manquantes par variables\")\n",
    "\n",
    "fig\n",
    "```"
   ]
  },
  {
   "cell_type": "code",
   "execution_count": null,
   "id": "f36e67ba-008a-4002-b4cf-d603fb5a8d83",
   "metadata": {},
   "outputs": [],
   "source": []
  }
 ],
 "metadata": {
  "kernelspec": {
   "display_name": "",
   "name": ""
  },
  "language_info": {
   "name": ""
  }
 },
 "nbformat": 4,
 "nbformat_minor": 5
}
